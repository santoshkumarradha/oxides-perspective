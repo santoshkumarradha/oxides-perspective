{
 "metadata": {
  "language_info": {
   "codemirror_mode": {
    "name": "ipython",
    "version": 3
   },
   "file_extension": ".py",
   "mimetype": "text/x-python",
   "name": "python",
   "nbconvert_exporter": "python",
   "pygments_lexer": "ipython3",
   "version": "3.7.9-final"
  },
  "orig_nbformat": 2,
  "kernelspec": {
   "name": "python37964bitdftconda558391e9eab746b287e15b580c985ea8",
   "display_name": "Python 3.7.9 64-bit ('dft': conda)",
   "language": "python"
  }
 },
 "nbformat": 4,
 "nbformat_minor": 2,
 "cells": [
  {
   "cell_type": "code",
   "execution_count": 2,
   "metadata": {},
   "outputs": [],
   "source": [
    "import sys\n",
    "sys.path.append(\"..\")\n",
    "import sys\n",
    "sys.path.append(\"/Users/santy/Google Drive/github projects/questaal_reader\")\n",
    "sys.path.append(\"/Users/santy/Google Drive/github projects/lmf_interface\")"
   ]
  },
  {
   "cell_type": "code",
   "execution_count": 3,
   "metadata": {},
   "outputs": [],
   "source": [
    "import sys, os\n",
    "sys.path.append(os.getcwd())\n",
    "from lmf import *\n",
    "from pymatgen.io.cif import CifParser, CifWriter\n",
    "from pymatgen import Structure, Lattice\n",
    "from matplotlib import pyplot as plt\n",
    "from pymatgen.io.ase import AseAtomsAdaptor as p2ase\n",
    "import ase\n",
    "from IPython.core.display import Image\n",
    "from contextlib import contextmanager\n",
    "from pathlib import Path\n",
    "import time\n",
    "import json\n",
    "import os"
   ]
  },
  {
   "cell_type": "code",
   "execution_count": 60,
   "metadata": {},
   "outputs": [],
   "source": [
    "def get_structure(d=10, a=0,atom=\"Li\"):\n",
    "    species = []\n",
    "    coords = []\n",
    "    parser = CifParser(\"../../data/structure/licoo2.cif\")\n",
    "    structure = parser.get_structures()[0]\n",
    "    for i in structure:\n",
    "        if i.species_string == \"Li\":\n",
    "            species.append(i.species)\n",
    "            coords.append(i.coords + [0, 0, +.5 * d + a])\n",
    "        else:\n",
    "            species.append(i.species)\n",
    "            coords.append(i.coords)\n",
    "    a = structure.lattice.matrix.copy()\n",
    "    a[2][2] = a[2][2] - d\n",
    "    struc = Structure(Lattice(a), species, coords, coords_are_cartesian=True)\n",
    "    struc.replace_species({\"Li\":atom})\n",
    "    CifWriter(struc).write_file(f\"../../data/structure/{atom}\"+'coo2_'+str(struc.lattice.c)[:4]+'.cif')\n",
    "    #     CifWriter(struc).write_file(fname+'licoo2_big.cif')\n",
    "    #     os.system(\"open \"+fname+'licoo2_big.cif')\n",
    "    return p2ase().get_atoms(struc)"
   ]
  },
  {
   "cell_type": "code",
   "execution_count": null,
   "metadata": {},
   "outputs": [],
   "source": [
    "for atom in [\"Li\",\"Na\",\"K\",\"Rb\",\"Cs\"]:\n",
    "    for d in np.linspace(0,5,10):\n",
    "        import time\n",
    "        start_time = time.time()\n",
    "        fname = \"./\" + str(atom)+\"/\" + f\"distance_{d}/\"\n",
    "        Path(fname).mkdir(parents=True, exist_ok=True)\n",
    "        print(\"running v={}\".format(v))\n",
    "        atoms=get_structure(d=d,atom=atom)\n",
    "        with cd(fname):\n",
    "            calculator = lmf(nkabc=[4, 4, 4], ctrl=\"temp\", p=num_processors)\n",
    "            pot_energy = calculator.get_potential_energy(atoms)\n",
    "            dictonary[\"energy\"] = pot_energy\n",
    "            #lmf().clean()\n",
    "\n",
    "        #---time calculations\n",
    "        elapsed_time = time.time() - start_time\n",
    "        total_time = time.strftime(\"%H:%M:%S\", time.gmtime(elapsed_time))\n",
    "        program_time_ellapsed_unformated = time.time() - program_start_time\n",
    "        program_time_ellapsed = time.strftime(\n",
    "            \"%H:%M:%S\", time.gmtime(program_time_ellapsed_unformated))\n",
    "\n",
    "        #---load the structure and energy to completed dictonray\n",
    "        print(\"completed in {} total time {}\\n =================\\n\".format(\n",
    "            total_time, program_time_ellapsed))"
   ]
  },
  {
   "cell_type": "code",
   "execution_count": 57,
   "metadata": {},
   "outputs": [],
   "source": []
  },
  {
   "cell_type": "code",
   "execution_count": 59,
   "metadata": {},
   "outputs": [
    {
     "output_type": "execute_result",
     "data": {
      "text/plain": [
       "Structure Summary\n",
       "Lattice\n",
       "    abc : 2.8428989600000008 2.84289896 9.852879566123741\n",
       " angles : 81.70514079015214 81.70514079015214 59.99999999999999\n",
       " volume : 67.99945880607618\n",
       "      A : -1.4214494800000006 -2.462022719752361 0.0\n",
       "      B : -2.84289896 0.0 0.0\n",
       "      C : -1.4214494800000002 -0.8206742399174538 -9.71520514\n",
       "PeriodicSite: Co (-2.8429, -1.6413, -2.3576) [0.5858, 0.5858, 0.2427]\n",
       "PeriodicSite: Cs (-0.0000, -0.0000, 2.5000) [0.0858, 0.0858, -0.2573]\n",
       "PeriodicSite: O (-1.4214, -0.8207, -1.3261) [0.2878, 0.2878, 0.1365]\n",
       "PeriodicSite: O (-4.2643, -2.4620, -3.3891) [0.8837, 0.8837, 0.3488]"
      ]
     },
     "metadata": {},
     "execution_count": 59
    }
   ],
   "source": [
    "get_structure(d=5,atom=\"Cs\")"
   ]
  },
  {
   "cell_type": "code",
   "execution_count": null,
   "metadata": {},
   "outputs": [],
   "source": []
  }
 ]
}